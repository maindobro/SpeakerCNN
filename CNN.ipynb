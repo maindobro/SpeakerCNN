{
 "cells": [
  {
   "cell_type": "code",
   "execution_count": 103,
   "metadata": {},
   "outputs": [],
   "source": [
    "import IPython.display as ipd\n",
    "import os\n",
    "import pandas as pd\n",
    "import numpy as np\n",
    "import librosa\n",
    "import glob \n",
    "import librosa.display\n",
    "import random\n",
    "import matplotlib.pyplot as plt\n",
    "import warnings\n",
    "\n",
    "from keras import regularizers\n",
    "from keras.models import Sequential\n",
    "from keras.layers import Dense, Dropout, Activation, Flatten\n",
    "from keras.layers import Convolution2D, MaxPooling2D\n",
    "from keras.optimizers import Adam\n",
    "from keras.utils import np_utils\n",
    "from keras.utils.np_utils import to_categorical\n",
    "from keras.callbacks import EarlyStopping\n",
    "from keras import backend as K\n",
    "\n",
    "from sklearn import metrics\n",
    "from sklearn.metrics import roc_curve\n",
    "from sklearn.metrics import auc\n",
    "from sklearn.datasets import make_regression\n",
    "from sklearn.preprocessing import StandardScaler\n",
    "from sklearn.preprocessing import LabelEncoder\n",
    "from sklearn.model_selection import train_test_split, GridSearchCV\n",
    "\n",
    "from tensorflow.keras.models import Sequential\n",
    "from tensorflow.keras.layers import Dense, Dropout \n",
    "from tensorflow.keras.wrappers.scikit_learn import KerasRegressor\n",
    "import tensorflow as tf"
   ]
  },
  {
   "cell_type": "code",
   "execution_count": 2,
   "metadata": {},
   "outputs": [],
   "source": [
    "#pip install Keras\n",
    "warnings.filterwarnings('ignore')"
   ]
  },
  {
   "cell_type": "code",
   "execution_count": 94,
   "metadata": {},
   "outputs": [],
   "source": [
    "def recall_m(y_true, y_pred):\n",
    "    true_positives = K.sum(K.round(K.clip(y_true * y_pred, 0, 1)))\n",
    "    possible_positives = K.sum(K.round(K.clip(y_true, 0, 1)))\n",
    "    recall = true_positives / (possible_positives + K.epsilon())\n",
    "    return recall\n",
    "\n",
    "def precision_m(y_true, y_pred):\n",
    "    true_positives = K.sum(K.round(K.clip(y_true * y_pred, 0, 1)))\n",
    "    predicted_positives = K.sum(K.round(K.clip(y_pred, 0, 1)))\n",
    "    precision = true_positives / (predicted_positives + K.epsilon())\n",
    "    return precision\n",
    "\n",
    "def f1_m(y_true, y_pred):\n",
    "    precision = precision_m(y_true, y_pred)\n",
    "    recall = recall_m(y_true, y_pred)\n",
    "    return 2*((precision*recall)/(precision+recall+K.epsilon()))\n"
   ]
  },
  {
   "cell_type": "code",
   "execution_count": 4,
   "metadata": {},
   "outputs": [],
   "source": [
    "def extract_features(files):\n",
    "    \n",
    "    # Абсолютный путь файла из папки со всеми данными\n",
    "    file_name = os.path.join(os.path.abspath('voice')+'/'+str(files.file))\n",
    "\n",
    "    # возвращает звуковой временной ряд в качестве массива numpy \n",
    "    # с частотой дискретизации по умолчанию 22 кГц\n",
    "    X, sample_rate = librosa.load(file_name, res_type='kaiser_fast') \n",
    "\n",
    "    # Генерация Мел-частотных кепстральных коэффициентов \n",
    "    mfccs = np.mean(librosa.feature.mfcc(y=X, sr=sample_rate, n_mfcc=40).T,axis=0)\n",
    "\n",
    "    # Используя короткое преобразование Фурье (STFT), вычисляем хронограмму(Цветность)\n",
    "    stft = np.abs(librosa.stft(X))\n",
    "    chroma = np.mean(librosa.feature.chroma_stft(S=stft, sr=sample_rate).T,axis=0)\n",
    "\n",
    "    # Строим мел-спектрограмму\n",
    "    mel = np.mean(librosa.feature.melspectrogram(X, sr=sample_rate).T,axis=0)\n",
    "\n",
    "    # Вычисляем спектральный контраст\n",
    "    contrast = np.mean(librosa.feature.spectral_contrast(S=stft, sr=sample_rate).T,axis=0)\n",
    "\n",
    "    # Вычисляем тональные особенности центроида\n",
    "    tonnetz = np.mean(librosa.feature.tonnetz(y=librosa.effects.harmonic(X),\n",
    "    sr=sample_rate).T,axis=0)\n",
    "        \n",
    "    label = files.label\n",
    "\n",
    "    return mfccs, chroma, mel, contrast, tonnetz, label"
   ]
  },
  {
   "cell_type": "code",
   "execution_count": 5,
   "metadata": {},
   "outputs": [],
   "source": [
    "# Извлекаем список файлов\n",
    "filelist = os.listdir('male') \n",
    "# Создаем датафрейм и наполняем его данными из filelist\n",
    "df_male = pd.DataFrame(filelist)"
   ]
  },
  {
   "cell_type": "code",
   "execution_count": 6,
   "metadata": {},
   "outputs": [],
   "source": [
    "# Добавляем метку \"1\" для диктора-мужчины\n",
    "df_male['label']='1'\n",
    "\n",
    "# Даем имя столбцу \"file\"\n",
    "df_male = df_male.rename(columns={0:'file'})"
   ]
  },
  {
   "cell_type": "code",
   "execution_count": 7,
   "metadata": {},
   "outputs": [
    {
     "data": {
      "text/html": [
       "<div>\n",
       "<style scoped>\n",
       "    .dataframe tbody tr th:only-of-type {\n",
       "        vertical-align: middle;\n",
       "    }\n",
       "\n",
       "    .dataframe tbody tr th {\n",
       "        vertical-align: top;\n",
       "    }\n",
       "\n",
       "    .dataframe thead th {\n",
       "        text-align: right;\n",
       "    }\n",
       "</style>\n",
       "<table border=\"1\" class=\"dataframe\">\n",
       "  <thead>\n",
       "    <tr style=\"text-align: right;\">\n",
       "      <th></th>\n",
       "      <th>file</th>\n",
       "      <th>label</th>\n",
       "    </tr>\n",
       "  </thead>\n",
       "  <tbody>\n",
       "    <tr>\n",
       "      <th>0</th>\n",
       "      <td>1034-121119-0000.flac</td>\n",
       "      <td>1</td>\n",
       "    </tr>\n",
       "    <tr>\n",
       "      <th>1</th>\n",
       "      <td>1034-121119-0001.flac</td>\n",
       "      <td>1</td>\n",
       "    </tr>\n",
       "    <tr>\n",
       "      <th>2</th>\n",
       "      <td>1034-121119-0002.flac</td>\n",
       "      <td>1</td>\n",
       "    </tr>\n",
       "    <tr>\n",
       "      <th>3</th>\n",
       "      <td>1034-121119-0003.flac</td>\n",
       "      <td>1</td>\n",
       "    </tr>\n",
       "    <tr>\n",
       "      <th>4</th>\n",
       "      <td>1034-121119-0004.flac</td>\n",
       "      <td>1</td>\n",
       "    </tr>\n",
       "  </tbody>\n",
       "</table>\n",
       "</div>"
      ],
      "text/plain": [
       "                    file label\n",
       "0  1034-121119-0000.flac     1\n",
       "1  1034-121119-0001.flac     1\n",
       "2  1034-121119-0002.flac     1\n",
       "3  1034-121119-0003.flac     1\n",
       "4  1034-121119-0004.flac     1"
      ]
     },
     "execution_count": 7,
     "metadata": {},
     "output_type": "execute_result"
    }
   ],
   "source": [
    "df_male.head()"
   ]
  },
  {
   "cell_type": "code",
   "execution_count": 8,
   "metadata": {},
   "outputs": [],
   "source": [
    "# Извлекаем список файлов\n",
    "filelist = os.listdir('female') \n",
    "# Создаем датафрейм и наполняем его данными из filelist\n",
    "df_female = pd.DataFrame(filelist)"
   ]
  },
  {
   "cell_type": "code",
   "execution_count": 9,
   "metadata": {},
   "outputs": [],
   "source": [
    "# Добавляем метку \"0\" для диктора-женщины\n",
    "df_female['label']='0'\n",
    "\n",
    "# Даем имя столбцу \"file\"\n",
    "df_female = df_female.rename(columns={0:'file'})"
   ]
  },
  {
   "cell_type": "code",
   "execution_count": 10,
   "metadata": {},
   "outputs": [
    {
     "data": {
      "text/html": [
       "<div>\n",
       "<style scoped>\n",
       "    .dataframe tbody tr th:only-of-type {\n",
       "        vertical-align: middle;\n",
       "    }\n",
       "\n",
       "    .dataframe tbody tr th {\n",
       "        vertical-align: top;\n",
       "    }\n",
       "\n",
       "    .dataframe thead th {\n",
       "        text-align: right;\n",
       "    }\n",
       "</style>\n",
       "<table border=\"1\" class=\"dataframe\">\n",
       "  <thead>\n",
       "    <tr style=\"text-align: right;\">\n",
       "      <th></th>\n",
       "      <th>file</th>\n",
       "      <th>label</th>\n",
       "    </tr>\n",
       "  </thead>\n",
       "  <tbody>\n",
       "    <tr>\n",
       "      <th>0</th>\n",
       "      <td>103-1240-0000.flac</td>\n",
       "      <td>0</td>\n",
       "    </tr>\n",
       "    <tr>\n",
       "      <th>1</th>\n",
       "      <td>103-1240-0001.flac</td>\n",
       "      <td>0</td>\n",
       "    </tr>\n",
       "    <tr>\n",
       "      <th>2</th>\n",
       "      <td>103-1240-0002.flac</td>\n",
       "      <td>0</td>\n",
       "    </tr>\n",
       "    <tr>\n",
       "      <th>3</th>\n",
       "      <td>103-1240-0003.flac</td>\n",
       "      <td>0</td>\n",
       "    </tr>\n",
       "    <tr>\n",
       "      <th>4</th>\n",
       "      <td>103-1240-0004.flac</td>\n",
       "      <td>0</td>\n",
       "    </tr>\n",
       "  </tbody>\n",
       "</table>\n",
       "</div>"
      ],
      "text/plain": [
       "                 file label\n",
       "0  103-1240-0000.flac     0\n",
       "1  103-1240-0001.flac     0\n",
       "2  103-1240-0002.flac     0\n",
       "3  103-1240-0003.flac     0\n",
       "4  103-1240-0004.flac     0"
      ]
     },
     "execution_count": 10,
     "metadata": {},
     "output_type": "execute_result"
    }
   ],
   "source": [
    "df_female.head()"
   ]
  },
  {
   "cell_type": "code",
   "execution_count": 11,
   "metadata": {},
   "outputs": [],
   "source": [
    "# Объединяем оба датафрема\n",
    "df = pd.concat([df_female, df_male], ignore_index=True)"
   ]
  },
  {
   "cell_type": "code",
   "execution_count": 12,
   "metadata": {},
   "outputs": [
    {
     "data": {
      "text/html": [
       "<div>\n",
       "<style scoped>\n",
       "    .dataframe tbody tr th:only-of-type {\n",
       "        vertical-align: middle;\n",
       "    }\n",
       "\n",
       "    .dataframe tbody tr th {\n",
       "        vertical-align: top;\n",
       "    }\n",
       "\n",
       "    .dataframe thead th {\n",
       "        text-align: right;\n",
       "    }\n",
       "</style>\n",
       "<table border=\"1\" class=\"dataframe\">\n",
       "  <thead>\n",
       "    <tr style=\"text-align: right;\">\n",
       "      <th></th>\n",
       "      <th>file</th>\n",
       "      <th>label</th>\n",
       "    </tr>\n",
       "  </thead>\n",
       "  <tbody>\n",
       "    <tr>\n",
       "      <th>0</th>\n",
       "      <td>103-1240-0000.flac</td>\n",
       "      <td>0</td>\n",
       "    </tr>\n",
       "    <tr>\n",
       "      <th>1</th>\n",
       "      <td>103-1240-0001.flac</td>\n",
       "      <td>0</td>\n",
       "    </tr>\n",
       "    <tr>\n",
       "      <th>2</th>\n",
       "      <td>103-1240-0002.flac</td>\n",
       "      <td>0</td>\n",
       "    </tr>\n",
       "    <tr>\n",
       "      <th>3</th>\n",
       "      <td>103-1240-0003.flac</td>\n",
       "      <td>0</td>\n",
       "    </tr>\n",
       "    <tr>\n",
       "      <th>4</th>\n",
       "      <td>103-1240-0004.flac</td>\n",
       "      <td>0</td>\n",
       "    </tr>\n",
       "  </tbody>\n",
       "</table>\n",
       "</div>"
      ],
      "text/plain": [
       "                 file label\n",
       "0  103-1240-0000.flac     0\n",
       "1  103-1240-0001.flac     0\n",
       "2  103-1240-0002.flac     0\n",
       "3  103-1240-0003.flac     0\n",
       "4  103-1240-0004.flac     0"
      ]
     },
     "execution_count": 12,
     "metadata": {},
     "output_type": "execute_result"
    }
   ],
   "source": [
    "df.head()"
   ]
  },
  {
   "cell_type": "code",
   "execution_count": 13,
   "metadata": {},
   "outputs": [],
   "source": [
    "df = df.sample(frac=1).reset_index(drop=True)"
   ]
  },
  {
   "cell_type": "code",
   "execution_count": 14,
   "metadata": {},
   "outputs": [],
   "source": [
    "# Разделяем данные на тренировочный набор (составляет 70% от общих данных)\n",
    "\n",
    "df_train = df[:19978]"
   ]
  },
  {
   "cell_type": "code",
   "execution_count": 15,
   "metadata": {
    "scrolled": true
   },
   "outputs": [
    {
     "data": {
      "text/plain": [
       "0    0.546852\n",
       "1    0.453148\n",
       "Name: label, dtype: float64"
      ]
     },
     "execution_count": 15,
     "metadata": {},
     "output_type": "execute_result"
    }
   ],
   "source": [
    "df_train['label'].value_counts(normalize=True)"
   ]
  },
  {
   "cell_type": "code",
   "execution_count": 16,
   "metadata": {},
   "outputs": [],
   "source": [
    "# Разделяем данные на проверочный набор (составляет 20% от общих данных)\n",
    "\n",
    "df_validation = df[19978:25686]"
   ]
  },
  {
   "cell_type": "code",
   "execution_count": 17,
   "metadata": {},
   "outputs": [
    {
     "data": {
      "text/plain": [
       "0    0.532235\n",
       "1    0.467765\n",
       "Name: label, dtype: float64"
      ]
     },
     "execution_count": 17,
     "metadata": {},
     "output_type": "execute_result"
    }
   ],
   "source": [
    "df_validation['label'].value_counts(normalize=True)"
   ]
  },
  {
   "cell_type": "code",
   "execution_count": 18,
   "metadata": {},
   "outputs": [],
   "source": [
    "# Разделяем данные на проверочный набор (составляет 10% от общих данных)\n",
    "\n",
    "df_test = df[25686:28539]"
   ]
  },
  {
   "cell_type": "code",
   "execution_count": 19,
   "metadata": {},
   "outputs": [
    {
     "data": {
      "text/plain": [
       "0    0.540834\n",
       "1    0.459166\n",
       "Name: label, dtype: float64"
      ]
     },
     "execution_count": 19,
     "metadata": {},
     "output_type": "execute_result"
    }
   ],
   "source": [
    "df_test['label'].value_counts(normalize=True)"
   ]
  },
  {
   "cell_type": "code",
   "execution_count": 20,
   "metadata": {},
   "outputs": [],
   "source": [
    "# Применяем функцию извлечения фичей на сырых данных из датасета\n",
    "features_label = df.apply(extract_features, axis=1)"
   ]
  },
  {
   "cell_type": "code",
   "execution_count": 25,
   "metadata": {},
   "outputs": [
    {
     "data": {
      "text/plain": [
       "0        ([-358.06213, 123.3904, -13.97524, 30.738903, ...\n",
       "1        ([-364.48865, 130.15599, -8.093654, 45.007336,...\n",
       "2        ([-327.46094, 113.037834, -24.224415, 52.60119...\n",
       "3        ([-330.9093, 104.1012, -20.743685, 26.712227, ...\n",
       "4        ([-395.85446, 94.403694, -56.91725, 39.53586, ...\n",
       "                               ...                        \n",
       "28534    ([-368.8126, 116.6785, -11.111848, 12.109425, ...\n",
       "28535    ([-363.90488, 115.366486, -19.893002, 22.27219...\n",
       "28536    ([-376.32233, 71.55738, -81.27539, 53.72306, 7...\n",
       "28537    ([-350.1341, 143.10709, -12.015589, 41.524525,...\n",
       "28538    ([-416.84573, 101.00519, -2.9246175, 35.624912...\n",
       "Length: 28539, dtype: object"
      ]
     },
     "execution_count": 25,
     "metadata": {},
     "output_type": "execute_result"
    }
   ],
   "source": [
    "features_label"
   ]
  },
  {
   "cell_type": "code",
   "execution_count": 22,
   "metadata": {},
   "outputs": [],
   "source": [
    "# Сохраняем вектор извлеченных фичей\n",
    "\n",
    "# np.save('features_label', features_label)\n",
    "\n",
    "# Загружаем вектор извлеченных фичей\n",
    "\n",
    "# features_label = np.load('features_label.npy', allow_pickle=True)"
   ]
  },
  {
   "cell_type": "code",
   "execution_count": 26,
   "metadata": {},
   "outputs": [],
   "source": [
    "# Создаем пустой список, где объединяем все извлеченный фичи в одну.\n",
    "\n",
    "features = []\n",
    "for i in range(0, len(features_label)):\n",
    "    features.append(np.concatenate((features_label[i][0], features_label[i][1], \n",
    "                features_label[i][2], features_label[i][3],\n",
    "                features_label[i][4]), axis=0))"
   ]
  },
  {
   "cell_type": "code",
   "execution_count": 27,
   "metadata": {},
   "outputs": [
    {
     "data": {
      "text/plain": [
       "28539"
      ]
     },
     "execution_count": 27,
     "metadata": {},
     "output_type": "execute_result"
    }
   ],
   "source": [
    "len(features)"
   ]
  },
  {
   "cell_type": "code",
   "execution_count": 28,
   "metadata": {},
   "outputs": [],
   "source": [
    "# Создаем пустой список, в который добавляем все идентификаторы дикторов, \n",
    "# зная, что id диктора определяется до первого символа \"-\"\n",
    "speaker = []\n",
    "for i in range(0, len(df)):\n",
    "    speaker.append(df['file'][i].split('-')[0])"
   ]
  },
  {
   "cell_type": "code",
   "execution_count": 29,
   "metadata": {},
   "outputs": [],
   "source": [
    "# Cоздаем список дикторов, наполняя его.\n",
    "df['speaker'] = speaker"
   ]
  },
  {
   "cell_type": "code",
   "execution_count": 30,
   "metadata": {
    "scrolled": true
   },
   "outputs": [
    {
     "data": {
      "text/html": [
       "<div>\n",
       "<style scoped>\n",
       "    .dataframe tbody tr th:only-of-type {\n",
       "        vertical-align: middle;\n",
       "    }\n",
       "\n",
       "    .dataframe tbody tr th {\n",
       "        vertical-align: top;\n",
       "    }\n",
       "\n",
       "    .dataframe thead th {\n",
       "        text-align: right;\n",
       "    }\n",
       "</style>\n",
       "<table border=\"1\" class=\"dataframe\">\n",
       "  <thead>\n",
       "    <tr style=\"text-align: right;\">\n",
       "      <th></th>\n",
       "      <th>file</th>\n",
       "      <th>label</th>\n",
       "      <th>speaker</th>\n",
       "    </tr>\n",
       "  </thead>\n",
       "  <tbody>\n",
       "    <tr>\n",
       "      <th>0</th>\n",
       "      <td>5339-14133-0039.flac</td>\n",
       "      <td>0</td>\n",
       "      <td>5339</td>\n",
       "    </tr>\n",
       "    <tr>\n",
       "      <th>1</th>\n",
       "      <td>831-130746-0051.flac</td>\n",
       "      <td>1</td>\n",
       "      <td>831</td>\n",
       "    </tr>\n",
       "    <tr>\n",
       "      <th>2</th>\n",
       "      <td>39-121914-0043.flac</td>\n",
       "      <td>0</td>\n",
       "      <td>39</td>\n",
       "    </tr>\n",
       "    <tr>\n",
       "      <th>3</th>\n",
       "      <td>4362-15663-0068.flac</td>\n",
       "      <td>0</td>\n",
       "      <td>4362</td>\n",
       "    </tr>\n",
       "    <tr>\n",
       "      <th>4</th>\n",
       "      <td>3607-29116-0023.flac</td>\n",
       "      <td>1</td>\n",
       "      <td>3607</td>\n",
       "    </tr>\n",
       "  </tbody>\n",
       "</table>\n",
       "</div>"
      ],
      "text/plain": [
       "                   file label speaker\n",
       "0  5339-14133-0039.flac     0    5339\n",
       "1  831-130746-0051.flac     1     831\n",
       "2   39-121914-0043.flac     0      39\n",
       "3  4362-15663-0068.flac     0    4362\n",
       "4  3607-29116-0023.flac     1    3607"
      ]
     },
     "execution_count": 30,
     "metadata": {},
     "output_type": "execute_result"
    }
   ],
   "source": [
    "df.head()"
   ]
  },
  {
   "cell_type": "code",
   "execution_count": 31,
   "metadata": {},
   "outputs": [
    {
     "data": {
      "text/plain": [
       "251"
      ]
     },
     "execution_count": 31,
     "metadata": {},
     "output_type": "execute_result"
    }
   ],
   "source": [
    "# Проверяем сколько различных дикторов в датасете\n",
    "df['speaker'].nunique()"
   ]
  },
  {
   "cell_type": "code",
   "execution_count": 32,
   "metadata": {},
   "outputs": [],
   "source": [
    "# Устанавливаем метки, равные списку дикторов\n",
    "labels = speaker"
   ]
  },
  {
   "cell_type": "code",
   "execution_count": 33,
   "metadata": {},
   "outputs": [
    {
     "data": {
      "text/plain": [
       "28539"
      ]
     },
     "execution_count": 33,
     "metadata": {},
     "output_type": "execute_result"
    }
   ],
   "source": [
    "# Checking the size of labels and making sure it matches the size of features\n",
    "len(labels)"
   ]
  },
  {
   "cell_type": "code",
   "execution_count": 34,
   "metadata": {},
   "outputs": [
    {
     "data": {
      "text/plain": [
       "(array(['103', '1034', '1040', '1069', '1081', '1088', '1098', '1116',\n",
       "        '118', '1183', '1235', '1246', '125', '1263', '1334', '1355',\n",
       "        '1363', '1447', '1455', '150', '1502', '1553', '1578', '1594',\n",
       "        '1624', '163', '1723', '1737', '1743', '1841', '1867', '1898',\n",
       "        '19', '1926', '196', '1963', '1970', '198', '1992', '200', '2002',\n",
       "        '2007', '201', '2092', '211', '2136', '2159', '2182', '2196',\n",
       "        '226', '2289', '229', '233', '2384', '2391', '2416', '2436', '248',\n",
       "        '250', '2514', '2518', '254', '26', '2691', '27', '2764', '2817',\n",
       "        '2836', '2843', '289', '2893', '2910', '2911', '2952', '298',\n",
       "        '2989', '302', '307', '311', '3112', '3168', '32', '3214', '322',\n",
       "        '3235', '3240', '3242', '3259', '328', '332', '3374', '3436',\n",
       "        '3440', '3486', '3526', '3607', '3664', '3699', '3723', '374',\n",
       "        '3807', '3830', '3857', '3879', '39', '3947', '3982', '3983', '40',\n",
       "        '4014', '4018', '403', '405', '4051', '4088', '412', '4137',\n",
       "        '4160', '4195', '4214', '426', '4267', '4297', '4340', '4362',\n",
       "        '4397', '4406', '441', '4441', '445', '446', '4481', '458', '460',\n",
       "        '4640', '4680', '4788', '481', '4813', '4830', '4853', '4859',\n",
       "        '4898', '5022', '5049', '5104', '5163', '5192', '5322', '5339',\n",
       "        '5390', '5393', '5456', '5463', '5514', '5561', '5652', '5678',\n",
       "        '5688', '5703', '5750', '5778', '5789', '5808', '5867', '587',\n",
       "        '60', '6000', '6019', '6064', '6078', '6081', '6147', '6181',\n",
       "        '6209', '625', '6272', '6367', '6385', '6415', '6437', '6454',\n",
       "        '6476', '6529', '6531', '6563', '669', '6818', '6836', '6848',\n",
       "        '6880', '6925', '696', '7059', '7067', '7078', '7113', '7148',\n",
       "        '7178', '7190', '7226', '7264', '7278', '730', '7302', '7312',\n",
       "        '7367', '7402', '7447', '7505', '7511', '7517', '7635', '7780',\n",
       "        '7794', '78', '7800', '7859', '8014', '8051', '8063', '8088',\n",
       "        '8095', '8098', '8108', '8123', '8226', '8238', '83', '831',\n",
       "        '8312', '8324', '839', '8419', '8425', '8465', '8468', '8580',\n",
       "        '8609', '8629', '8630', '87', '8747', '8770', '8797', '8838',\n",
       "        '887', '89', '8975', '909', '911'], dtype='<U4'),\n",
       " array([102,  96,  81, 108, 130, 112,  92, 126, 137,  66, 125, 117, 138,\n",
       "        109, 107,  98,  98, 129, 131, 114, 136, 102, 118, 129, 101, 112,\n",
       "        112, 126, 103, 115, 137, 128, 111, 133, 108, 129, 122, 126,  56,\n",
       "        116, 116, 123, 127, 106, 166, 127, 110, 115, 113, 107, 130,  94,\n",
       "        110,  90, 123, 110, 116, 114, 114, 108, 112, 122, 118, 116, 138,\n",
       "        120, 122, 109, 116,  86, 107,  95, 122, 119, 113, 155, 113, 124,\n",
       "        122, 118, 108, 117, 116, 122, 113, 127, 123, 126,  99,  89, 123,\n",
       "        119, 113, 120, 114,  98, 107, 117, 119, 113,  99, 118, 110, 117,\n",
       "        123, 103, 113, 113, 114, 165, 110, 114, 117, 133, 118,  95, 114,\n",
       "        108, 140,  81, 116, 112, 111, 101, 107, 111, 130, 115, 124,  60,\n",
       "        111,  97,  82, 126, 128, 123, 107, 128, 111, 107, 111,  93, 110,\n",
       "        115, 127, 112, 108, 119, 113, 137, 116, 125, 112, 115,  87, 134,\n",
       "        130, 108, 123, 113, 122,  99, 112, 120, 113, 117,  97,  88, 112,\n",
       "        110, 132, 121, 117, 114, 114, 110, 115, 113, 113, 116, 108, 110,\n",
       "        118, 107, 133,  92, 118, 107, 116, 109, 116,  86, 108, 111, 111,\n",
       "        115, 111, 115, 115, 131, 111, 111, 121, 161, 135,  26, 119, 112,\n",
       "        114, 115, 108, 103, 122, 106, 106, 118, 115, 110,  76, 116, 155,\n",
       "        120, 112, 116, 110, 109, 118, 123, 123, 124, 106, 113, 100, 112,\n",
       "        114, 118, 118,  87, 115, 128, 100, 108, 110, 111, 104, 107, 115,\n",
       "        123, 115, 110, 113], dtype=int64))"
      ]
     },
     "execution_count": 34,
     "metadata": {},
     "output_type": "execute_result"
    }
   ],
   "source": [
    "# Проверяем наличие сбалансированных классов для всех данных\n",
    "np.unique(labels, return_counts=True)"
   ]
  },
  {
   "cell_type": "code",
   "execution_count": 35,
   "metadata": {},
   "outputs": [],
   "source": [
    "X = np.array(features)\n",
    "y = np.array(labels)"
   ]
  },
  {
   "cell_type": "code",
   "execution_count": 36,
   "metadata": {},
   "outputs": [],
   "source": [
    "lb = LabelEncoder()\n",
    "y = to_categorical(lb.fit_transform(y))"
   ]
  },
  {
   "cell_type": "code",
   "execution_count": 37,
   "metadata": {},
   "outputs": [
    {
     "data": {
      "text/plain": [
       "(28539, 251)"
      ]
     },
     "execution_count": 37,
     "metadata": {},
     "output_type": "execute_result"
    }
   ],
   "source": [
    "X.shape\n",
    "y.shape"
   ]
  },
  {
   "cell_type": "code",
   "execution_count": 38,
   "metadata": {},
   "outputs": [],
   "source": [
    "# Выбираем тренировочный набор данных (70%)\n",
    "# Выбираем проверочный набор данных (20%)\n",
    "# Выбираем тестовый набор данных (10%) \n",
    "\n",
    "X_train = X[:19978]\n",
    "y_train = y[:19978]\n",
    "\n",
    "X_val = X[19978:25686]\n",
    "y_val = y[19978:25686]\n",
    "\n",
    "X_test = X[25686:]\n",
    "y_test = y[25686:]"
   ]
  },
  {
   "cell_type": "code",
   "execution_count": 39,
   "metadata": {},
   "outputs": [],
   "source": [
    "ss = StandardScaler()\n",
    "X_train = ss.fit_transform(X_train)\n",
    "X_val = ss.transform(X_val)\n",
    "X_test = ss.transform(X_test)"
   ]
  },
  {
   "cell_type": "code",
   "execution_count": 95,
   "metadata": {},
   "outputs": [],
   "source": [
    "# Построим простую полносвязную сеть с ранней остановкой с softmax для категориальной классификации\n",
    "# Мы имеем 251 класс\n",
    "\n",
    "model = Sequential()\n",
    "\n",
    "model.add(Dense(193, input_shape=(193,), activation = 'relu'))\n",
    "model.add(Dropout(0.1))\n",
    "\n",
    "model.add(Dense(128, activation = 'relu'))\n",
    "model.add(Dropout(0.25))  \n",
    "\n",
    "model.add(Dense(128, activation = 'relu'))\n",
    "model.add(Dropout(0.5))    \n",
    "\n",
    "model.add(Dense(251, activation = 'softmax'))\n",
    "\n",
    "model.compile(loss='categorical_crossentropy', metrics=['accuracy',f1_m,precision_m, recall_m], optimizer='adam')\n",
    "\n",
    "early_stop = EarlyStopping(monitor='val_loss', min_delta=0, patience=100, verbose=1, mode='auto')"
   ]
  },
  {
   "cell_type": "code",
   "execution_count": 98,
   "metadata": {},
   "outputs": [
    {
     "name": "stdout",
     "output_type": "stream",
     "text": [
      "Epoch 1/100\n",
      "79/79 [==============================] - 2s 13ms/step - loss: 5.3625 - accuracy: 0.0251 - f1_m: 0.0021 - precision_m: 0.0810 - recall_m: 0.0011 - val_loss: 3.4309 - val_accuracy: 0.4149 - val_f1_m: 0.0510 - val_precision_m: 0.9478 - val_recall_m: 0.0263\n",
      "Epoch 2/100\n",
      "79/79 [==============================] - 1s 9ms/step - loss: 3.5597 - accuracy: 0.2026 - f1_m: 0.0730 - precision_m: 0.6641 - recall_m: 0.0397 - val_loss: 1.5115 - val_accuracy: 0.7779 - val_f1_m: 0.4144 - val_precision_m: 0.9815 - val_recall_m: 0.2631\n",
      "Epoch 3/100\n",
      "79/79 [==============================] - 1s 8ms/step - loss: 2.2208 - accuracy: 0.4359 - f1_m: 0.3165 - precision_m: 0.7693 - recall_m: 0.2014 - val_loss: 0.7282 - val_accuracy: 0.8905 - val_f1_m: 0.7780 - val_precision_m: 0.9852 - val_recall_m: 0.6434\n",
      "Epoch 4/100\n",
      "79/79 [==============================] - 1s 9ms/step - loss: 1.5920 - accuracy: 0.5735 - f1_m: 0.5094 - precision_m: 0.8050 - recall_m: 0.3736 - val_loss: 0.4206 - val_accuracy: 0.9322 - val_f1_m: 0.8946 - val_precision_m: 0.9867 - val_recall_m: 0.8186\n",
      "Epoch 5/100\n",
      "79/79 [==============================] - 1s 9ms/step - loss: 1.1908 - accuracy: 0.6773 - f1_m: 0.6352 - precision_m: 0.8522 - recall_m: 0.5071 - val_loss: 0.2843 - val_accuracy: 0.9543 - val_f1_m: 0.9343 - val_precision_m: 0.9862 - val_recall_m: 0.8878\n",
      "Epoch 6/100\n",
      "79/79 [==============================] - 1s 9ms/step - loss: 0.9825 - accuracy: 0.7274 - f1_m: 0.7025 - precision_m: 0.8586 - recall_m: 0.5952 - val_loss: 0.2057 - val_accuracy: 0.9637 - val_f1_m: 0.9545 - val_precision_m: 0.9871 - val_recall_m: 0.9242\n",
      "Epoch 7/100\n",
      "79/79 [==============================] - 1s 9ms/step - loss: 0.7824 - accuracy: 0.7780 - f1_m: 0.7622 - precision_m: 0.8825 - recall_m: 0.6711 - val_loss: 0.1540 - val_accuracy: 0.9725 - val_f1_m: 0.9671 - val_precision_m: 0.9878 - val_recall_m: 0.9474\n",
      "Epoch 8/100\n",
      "79/79 [==============================] - 1s 8ms/step - loss: 0.6742 - accuracy: 0.8051 - f1_m: 0.7959 - precision_m: 0.8942 - recall_m: 0.7173 - val_loss: 0.1275 - val_accuracy: 0.9762 - val_f1_m: 0.9734 - val_precision_m: 0.9883 - val_recall_m: 0.9591\n",
      "Epoch 9/100\n",
      "79/79 [==============================] - 1s 8ms/step - loss: 0.5982 - accuracy: 0.8300 - f1_m: 0.8229 - precision_m: 0.9024 - recall_m: 0.7566 - val_loss: 0.1057 - val_accuracy: 0.9785 - val_f1_m: 0.9778 - val_precision_m: 0.9882 - val_recall_m: 0.9678\n",
      "Epoch 10/100\n",
      "79/79 [==============================] - 1s 9ms/step - loss: 0.5412 - accuracy: 0.8450 - f1_m: 0.8386 - precision_m: 0.9062 - recall_m: 0.7807 - val_loss: 0.0938 - val_accuracy: 0.9802 - val_f1_m: 0.9800 - val_precision_m: 0.9878 - val_recall_m: 0.9724\n",
      "Epoch 11/100\n",
      "79/79 [==============================] - 1s 9ms/step - loss: 0.4737 - accuracy: 0.8571 - f1_m: 0.8569 - precision_m: 0.9143 - recall_m: 0.8064 - val_loss: 0.0821 - val_accuracy: 0.9823 - val_f1_m: 0.9818 - val_precision_m: 0.9883 - val_recall_m: 0.9754\n",
      "Epoch 12/100\n",
      "79/79 [==============================] - 1s 9ms/step - loss: 0.4329 - accuracy: 0.8688 - f1_m: 0.8682 - precision_m: 0.9197 - recall_m: 0.8223 - val_loss: 0.0718 - val_accuracy: 0.9837 - val_f1_m: 0.9839 - val_precision_m: 0.9885 - val_recall_m: 0.9794\n",
      "Epoch 13/100\n",
      "79/79 [==============================] - 1s 9ms/step - loss: 0.3991 - accuracy: 0.8814 - f1_m: 0.8782 - precision_m: 0.9253 - recall_m: 0.8358 - val_loss: 0.0680 - val_accuracy: 0.9853 - val_f1_m: 0.9840 - val_precision_m: 0.9887 - val_recall_m: 0.9794\n",
      "Epoch 14/100\n",
      "79/79 [==============================] - 1s 9ms/step - loss: 0.3903 - accuracy: 0.8870 - f1_m: 0.8870 - precision_m: 0.9276 - recall_m: 0.8499 - val_loss: 0.0613 - val_accuracy: 0.9867 - val_f1_m: 0.9863 - val_precision_m: 0.9899 - val_recall_m: 0.9827\n",
      "Epoch 15/100\n",
      "79/79 [==============================] - 1s 8ms/step - loss: 0.3569 - accuracy: 0.8936 - f1_m: 0.8930 - precision_m: 0.9333 - recall_m: 0.8564 - val_loss: 0.0614 - val_accuracy: 0.9879 - val_f1_m: 0.9854 - val_precision_m: 0.9899 - val_recall_m: 0.9809\n",
      "Epoch 16/100\n",
      "79/79 [==============================] - 1s 9ms/step - loss: 0.3306 - accuracy: 0.9026 - f1_m: 0.9023 - precision_m: 0.9382 - recall_m: 0.8691 - val_loss: 0.0521 - val_accuracy: 0.9869 - val_f1_m: 0.9864 - val_precision_m: 0.9894 - val_recall_m: 0.9835\n",
      "Epoch 17/100\n",
      "79/79 [==============================] - 1s 8ms/step - loss: 0.3282 - accuracy: 0.9015 - f1_m: 0.9031 - precision_m: 0.9346 - recall_m: 0.8738 - val_loss: 0.0535 - val_accuracy: 0.9883 - val_f1_m: 0.9870 - val_precision_m: 0.9897 - val_recall_m: 0.9842\n",
      "Epoch 18/100\n",
      "79/79 [==============================] - 1s 8ms/step - loss: 0.3066 - accuracy: 0.9061 - f1_m: 0.9067 - precision_m: 0.9365 - recall_m: 0.8788 - val_loss: 0.0493 - val_accuracy: 0.9874 - val_f1_m: 0.9861 - val_precision_m: 0.9891 - val_recall_m: 0.9832\n",
      "Epoch 19/100\n",
      "79/79 [==============================] - 1s 9ms/step - loss: 0.2605 - accuracy: 0.9181 - f1_m: 0.9184 - precision_m: 0.9431 - recall_m: 0.8950 - val_loss: 0.0465 - val_accuracy: 0.9881 - val_f1_m: 0.9879 - val_precision_m: 0.9901 - val_recall_m: 0.9857\n",
      "Epoch 20/100\n",
      "79/79 [==============================] - 1s 9ms/step - loss: 0.2544 - accuracy: 0.9233 - f1_m: 0.9233 - precision_m: 0.9470 - recall_m: 0.9009 - val_loss: 0.0459 - val_accuracy: 0.9890 - val_f1_m: 0.9892 - val_precision_m: 0.9917 - val_recall_m: 0.9868\n",
      "Epoch 21/100\n",
      "79/79 [==============================] - 1s 9ms/step - loss: 0.2525 - accuracy: 0.9238 - f1_m: 0.9239 - precision_m: 0.9453 - recall_m: 0.9034 - val_loss: 0.0447 - val_accuracy: 0.9884 - val_f1_m: 0.9882 - val_precision_m: 0.9895 - val_recall_m: 0.9870\n",
      "Epoch 22/100\n",
      "79/79 [==============================] - 1s 9ms/step - loss: 0.2549 - accuracy: 0.9227 - f1_m: 0.9237 - precision_m: 0.9465 - recall_m: 0.9021 - val_loss: 0.0437 - val_accuracy: 0.9886 - val_f1_m: 0.9887 - val_precision_m: 0.9903 - val_recall_m: 0.9871\n",
      "Epoch 23/100\n",
      "79/79 [==============================] - 1s 9ms/step - loss: 0.2283 - accuracy: 0.9312 - f1_m: 0.9329 - precision_m: 0.9536 - recall_m: 0.9131 - val_loss: 0.0419 - val_accuracy: 0.9898 - val_f1_m: 0.9895 - val_precision_m: 0.9910 - val_recall_m: 0.9880\n",
      "Epoch 24/100\n",
      "79/79 [==============================] - 1s 9ms/step - loss: 0.2118 - accuracy: 0.9325 - f1_m: 0.9336 - precision_m: 0.9509 - recall_m: 0.9169 - val_loss: 0.0384 - val_accuracy: 0.9907 - val_f1_m: 0.9905 - val_precision_m: 0.9924 - val_recall_m: 0.9886\n",
      "Epoch 25/100\n",
      "79/79 [==============================] - 1s 9ms/step - loss: 0.2085 - accuracy: 0.9361 - f1_m: 0.9378 - precision_m: 0.9561 - recall_m: 0.9202 - val_loss: 0.0418 - val_accuracy: 0.9895 - val_f1_m: 0.9895 - val_precision_m: 0.9909 - val_recall_m: 0.9882\n",
      "Epoch 26/100\n",
      "79/79 [==============================] - 1s 8ms/step - loss: 0.2066 - accuracy: 0.9382 - f1_m: 0.9399 - precision_m: 0.9567 - recall_m: 0.9238 - val_loss: 0.0393 - val_accuracy: 0.9911 - val_f1_m: 0.9909 - val_precision_m: 0.9924 - val_recall_m: 0.9895\n",
      "Epoch 27/100\n",
      "79/79 [==============================] - 1s 9ms/step - loss: 0.2266 - accuracy: 0.9332 - f1_m: 0.9319 - precision_m: 0.9495 - recall_m: 0.9149 - val_loss: 0.0357 - val_accuracy: 0.9895 - val_f1_m: 0.9892 - val_precision_m: 0.9908 - val_recall_m: 0.9876\n",
      "Epoch 28/100\n",
      "79/79 [==============================] - 1s 9ms/step - loss: 0.1973 - accuracy: 0.9386 - f1_m: 0.9395 - precision_m: 0.9552 - recall_m: 0.9244 - val_loss: 0.0346 - val_accuracy: 0.9907 - val_f1_m: 0.9903 - val_precision_m: 0.9922 - val_recall_m: 0.9885\n",
      "Epoch 29/100\n",
      "79/79 [==============================] - 1s 9ms/step - loss: 0.1878 - accuracy: 0.9433 - f1_m: 0.9437 - precision_m: 0.9590 - recall_m: 0.9291 - val_loss: 0.0362 - val_accuracy: 0.9904 - val_f1_m: 0.9910 - val_precision_m: 0.9927 - val_recall_m: 0.9893\n",
      "Epoch 30/100\n",
      "79/79 [==============================] - 1s 10ms/step - loss: 0.1772 - accuracy: 0.9449 - f1_m: 0.9461 - precision_m: 0.9604 - recall_m: 0.9321 - val_loss: 0.0336 - val_accuracy: 0.9916 - val_f1_m: 0.9919 - val_precision_m: 0.9931 - val_recall_m: 0.9908\n",
      "Epoch 31/100\n",
      "79/79 [==============================] - 1s 9ms/step - loss: 0.1821 - accuracy: 0.9429 - f1_m: 0.9440 - precision_m: 0.9573 - recall_m: 0.9311 - val_loss: 0.0434 - val_accuracy: 0.9904 - val_f1_m: 0.9898 - val_precision_m: 0.9909 - val_recall_m: 0.9888\n"
     ]
    },
    {
     "name": "stdout",
     "output_type": "stream",
     "text": [
      "Epoch 32/100\n",
      "79/79 [==============================] - 1s 9ms/step - loss: 0.1987 - accuracy: 0.9372 - f1_m: 0.9400 - precision_m: 0.9550 - recall_m: 0.9255 - val_loss: 0.0373 - val_accuracy: 0.9909 - val_f1_m: 0.9905 - val_precision_m: 0.9919 - val_recall_m: 0.9892\n",
      "Epoch 33/100\n",
      "79/79 [==============================] - 1s 9ms/step - loss: 0.1766 - accuracy: 0.9445 - f1_m: 0.9456 - precision_m: 0.9583 - recall_m: 0.9333 - val_loss: 0.0350 - val_accuracy: 0.9905 - val_f1_m: 0.9903 - val_precision_m: 0.9909 - val_recall_m: 0.9897\n",
      "Epoch 34/100\n",
      "79/79 [==============================] - 1s 8ms/step - loss: 0.2077 - accuracy: 0.9372 - f1_m: 0.9390 - precision_m: 0.9521 - recall_m: 0.9262 - val_loss: 0.0357 - val_accuracy: 0.9902 - val_f1_m: 0.9902 - val_precision_m: 0.9923 - val_recall_m: 0.9881\n",
      "Epoch 35/100\n",
      "79/79 [==============================] - 1s 9ms/step - loss: 0.1829 - accuracy: 0.9446 - f1_m: 0.9451 - precision_m: 0.9575 - recall_m: 0.9331 - val_loss: 0.0332 - val_accuracy: 0.9904 - val_f1_m: 0.9900 - val_precision_m: 0.9909 - val_recall_m: 0.9892\n",
      "Epoch 36/100\n",
      "79/79 [==============================] - 1s 9ms/step - loss: 0.1682 - accuracy: 0.9474 - f1_m: 0.9484 - precision_m: 0.9605 - recall_m: 0.9366 - val_loss: 0.0330 - val_accuracy: 0.9911 - val_f1_m: 0.9911 - val_precision_m: 0.9923 - val_recall_m: 0.9899\n",
      "Epoch 37/100\n",
      "79/79 [==============================] - 1s 8ms/step - loss: 0.1559 - accuracy: 0.9511 - f1_m: 0.9517 - precision_m: 0.9622 - recall_m: 0.9414 - val_loss: 0.0329 - val_accuracy: 0.9911 - val_f1_m: 0.9906 - val_precision_m: 0.9920 - val_recall_m: 0.9892\n",
      "Epoch 38/100\n",
      "79/79 [==============================] - 1s 8ms/step - loss: 0.1404 - accuracy: 0.9570 - f1_m: 0.9572 - precision_m: 0.9680 - recall_m: 0.9467 - val_loss: 0.0273 - val_accuracy: 0.9928 - val_f1_m: 0.9930 - val_precision_m: 0.9941 - val_recall_m: 0.9918\n",
      "Epoch 39/100\n",
      "79/79 [==============================] - 1s 9ms/step - loss: 0.1419 - accuracy: 0.9570 - f1_m: 0.9574 - precision_m: 0.9669 - recall_m: 0.9481 - val_loss: 0.0293 - val_accuracy: 0.9925 - val_f1_m: 0.9925 - val_precision_m: 0.9931 - val_recall_m: 0.9918\n",
      "Epoch 40/100\n",
      "79/79 [==============================] - 1s 8ms/step - loss: 0.1418 - accuracy: 0.9561 - f1_m: 0.9577 - precision_m: 0.9687 - recall_m: 0.9469 - val_loss: 0.0289 - val_accuracy: 0.9923 - val_f1_m: 0.9923 - val_precision_m: 0.9931 - val_recall_m: 0.9914\n",
      "Epoch 41/100\n",
      "79/79 [==============================] - 1s 8ms/step - loss: 0.1331 - accuracy: 0.9584 - f1_m: 0.9586 - precision_m: 0.9673 - recall_m: 0.9500 - val_loss: 0.0267 - val_accuracy: 0.9935 - val_f1_m: 0.9937 - val_precision_m: 0.9949 - val_recall_m: 0.9924\n",
      "Epoch 42/100\n",
      "79/79 [==============================] - 1s 9ms/step - loss: 0.1446 - accuracy: 0.9560 - f1_m: 0.9571 - precision_m: 0.9653 - recall_m: 0.9490 - val_loss: 0.0258 - val_accuracy: 0.9932 - val_f1_m: 0.9927 - val_precision_m: 0.9936 - val_recall_m: 0.9919\n",
      "Epoch 43/100\n",
      "79/79 [==============================] - 1s 9ms/step - loss: 0.1356 - accuracy: 0.9566 - f1_m: 0.9564 - precision_m: 0.9655 - recall_m: 0.9476 - val_loss: 0.0270 - val_accuracy: 0.9926 - val_f1_m: 0.9926 - val_precision_m: 0.9935 - val_recall_m: 0.9918\n",
      "Epoch 44/100\n",
      "79/79 [==============================] - 1s 8ms/step - loss: 0.1316 - accuracy: 0.9598 - f1_m: 0.9615 - precision_m: 0.9697 - recall_m: 0.9534 - val_loss: 0.0280 - val_accuracy: 0.9925 - val_f1_m: 0.9920 - val_precision_m: 0.9927 - val_recall_m: 0.9912\n",
      "Epoch 45/100\n",
      "79/79 [==============================] - 1s 9ms/step - loss: 0.1451 - accuracy: 0.9541 - f1_m: 0.9551 - precision_m: 0.9642 - recall_m: 0.9463 - val_loss: 0.0283 - val_accuracy: 0.9930 - val_f1_m: 0.9926 - val_precision_m: 0.9931 - val_recall_m: 0.9921\n",
      "Epoch 46/100\n",
      "79/79 [==============================] - 1s 9ms/step - loss: 0.1556 - accuracy: 0.9518 - f1_m: 0.9517 - precision_m: 0.9614 - recall_m: 0.9424 - val_loss: 0.0297 - val_accuracy: 0.9921 - val_f1_m: 0.9917 - val_precision_m: 0.9930 - val_recall_m: 0.9904\n",
      "Epoch 47/100\n",
      "79/79 [==============================] - 1s 9ms/step - loss: 0.1412 - accuracy: 0.9565 - f1_m: 0.9574 - precision_m: 0.9660 - recall_m: 0.9489 - val_loss: 0.0291 - val_accuracy: 0.9918 - val_f1_m: 0.9918 - val_precision_m: 0.9926 - val_recall_m: 0.9910\n",
      "Epoch 48/100\n",
      "79/79 [==============================] - 1s 8ms/step - loss: 0.1246 - accuracy: 0.9625 - f1_m: 0.9625 - precision_m: 0.9693 - recall_m: 0.9558 - val_loss: 0.0287 - val_accuracy: 0.9928 - val_f1_m: 0.9921 - val_precision_m: 0.9929 - val_recall_m: 0.9912\n",
      "Epoch 49/100\n",
      "79/79 [==============================] - 1s 9ms/step - loss: 0.1372 - accuracy: 0.9593 - f1_m: 0.9602 - precision_m: 0.9678 - recall_m: 0.9527 - val_loss: 0.0267 - val_accuracy: 0.9921 - val_f1_m: 0.9921 - val_precision_m: 0.9932 - val_recall_m: 0.9910\n",
      "Epoch 50/100\n",
      "79/79 [==============================] - 1s 9ms/step - loss: 0.1183 - accuracy: 0.9618 - f1_m: 0.9628 - precision_m: 0.9701 - recall_m: 0.9556 - val_loss: 0.0296 - val_accuracy: 0.9919 - val_f1_m: 0.9919 - val_precision_m: 0.9926 - val_recall_m: 0.9912\n",
      "Epoch 51/100\n",
      "79/79 [==============================] - 1s 10ms/step - loss: 0.1185 - accuracy: 0.9612 - f1_m: 0.9625 - precision_m: 0.9694 - recall_m: 0.9556 - val_loss: 0.0265 - val_accuracy: 0.9923 - val_f1_m: 0.9919 - val_precision_m: 0.9924 - val_recall_m: 0.9914\n",
      "Epoch 52/100\n",
      "79/79 [==============================] - 1s 9ms/step - loss: 0.1132 - accuracy: 0.9649 - f1_m: 0.9657 - precision_m: 0.9723 - recall_m: 0.9592 - val_loss: 0.0294 - val_accuracy: 0.9928 - val_f1_m: 0.9925 - val_precision_m: 0.9932 - val_recall_m: 0.9917\n",
      "Epoch 53/100\n",
      "79/79 [==============================] - 1s 9ms/step - loss: 0.1231 - accuracy: 0.9633 - f1_m: 0.9637 - precision_m: 0.9697 - recall_m: 0.9577 - val_loss: 0.0288 - val_accuracy: 0.9925 - val_f1_m: 0.9925 - val_precision_m: 0.9934 - val_recall_m: 0.9916\n",
      "Epoch 54/100\n",
      "79/79 [==============================] - 1s 8ms/step - loss: 0.1180 - accuracy: 0.9648 - f1_m: 0.9654 - precision_m: 0.9707 - recall_m: 0.9601 - val_loss: 0.0256 - val_accuracy: 0.9919 - val_f1_m: 0.9916 - val_precision_m: 0.9924 - val_recall_m: 0.9909\n",
      "Epoch 55/100\n",
      "79/79 [==============================] - 1s 9ms/step - loss: 0.1118 - accuracy: 0.9640 - f1_m: 0.9647 - precision_m: 0.9715 - recall_m: 0.9579 - val_loss: 0.0273 - val_accuracy: 0.9921 - val_f1_m: 0.9923 - val_precision_m: 0.9934 - val_recall_m: 0.9912\n",
      "Epoch 56/100\n",
      "79/79 [==============================] - 1s 8ms/step - loss: 0.1106 - accuracy: 0.9652 - f1_m: 0.9656 - precision_m: 0.9727 - recall_m: 0.9586 - val_loss: 0.0304 - val_accuracy: 0.9926 - val_f1_m: 0.9923 - val_precision_m: 0.9931 - val_recall_m: 0.9916\n",
      "Epoch 57/100\n",
      "79/79 [==============================] - 1s 8ms/step - loss: 0.1142 - accuracy: 0.9644 - f1_m: 0.9652 - precision_m: 0.9717 - recall_m: 0.9587 - val_loss: 0.0251 - val_accuracy: 0.9933 - val_f1_m: 0.9935 - val_precision_m: 0.9944 - val_recall_m: 0.9926\n",
      "Epoch 58/100\n",
      "79/79 [==============================] - 1s 9ms/step - loss: 0.1010 - accuracy: 0.9684 - f1_m: 0.9690 - precision_m: 0.9750 - recall_m: 0.9632 - val_loss: 0.0273 - val_accuracy: 0.9921 - val_f1_m: 0.9920 - val_precision_m: 0.9927 - val_recall_m: 0.9912\n",
      "Epoch 59/100\n",
      "79/79 [==============================] - 1s 9ms/step - loss: 0.1091 - accuracy: 0.9656 - f1_m: 0.9654 - precision_m: 0.9717 - recall_m: 0.9593 - val_loss: 0.0299 - val_accuracy: 0.9923 - val_f1_m: 0.9922 - val_precision_m: 0.9931 - val_recall_m: 0.9914\n",
      "Epoch 60/100\n",
      "79/79 [==============================] - 1s 8ms/step - loss: 0.1169 - accuracy: 0.9635 - f1_m: 0.9644 - precision_m: 0.9700 - recall_m: 0.9589 - val_loss: 0.0313 - val_accuracy: 0.9926 - val_f1_m: 0.9921 - val_precision_m: 0.9931 - val_recall_m: 0.9912\n",
      "Epoch 61/100\n",
      "79/79 [==============================] - 1s 9ms/step - loss: 0.1062 - accuracy: 0.9674 - f1_m: 0.9676 - precision_m: 0.9731 - recall_m: 0.9621 - val_loss: 0.0251 - val_accuracy: 0.9935 - val_f1_m: 0.9931 - val_precision_m: 0.9936 - val_recall_m: 0.9926\n",
      "Epoch 62/100\n",
      "79/79 [==============================] - 1s 8ms/step - loss: 0.1196 - accuracy: 0.9623 - f1_m: 0.9627 - precision_m: 0.9694 - recall_m: 0.9562 - val_loss: 0.0280 - val_accuracy: 0.9926 - val_f1_m: 0.9919 - val_precision_m: 0.9927 - val_recall_m: 0.9910\n"
     ]
    },
    {
     "name": "stdout",
     "output_type": "stream",
     "text": [
      "Epoch 63/100\n",
      "79/79 [==============================] - 1s 9ms/step - loss: 0.1097 - accuracy: 0.9667 - f1_m: 0.9674 - precision_m: 0.9732 - recall_m: 0.9617 - val_loss: 0.0271 - val_accuracy: 0.9937 - val_f1_m: 0.9935 - val_precision_m: 0.9946 - val_recall_m: 0.9924\n",
      "Epoch 64/100\n",
      "79/79 [==============================] - 1s 9ms/step - loss: 0.1044 - accuracy: 0.9700 - f1_m: 0.9699 - precision_m: 0.9758 - recall_m: 0.9641 - val_loss: 0.0261 - val_accuracy: 0.9933 - val_f1_m: 0.9932 - val_precision_m: 0.9939 - val_recall_m: 0.9924\n",
      "Epoch 65/100\n",
      "79/79 [==============================] - 1s 9ms/step - loss: 0.0993 - accuracy: 0.9684 - f1_m: 0.9686 - precision_m: 0.9740 - recall_m: 0.9632 - val_loss: 0.0260 - val_accuracy: 0.9925 - val_f1_m: 0.9926 - val_precision_m: 0.9936 - val_recall_m: 0.9916\n",
      "Epoch 66/100\n",
      "79/79 [==============================] - 1s 9ms/step - loss: 0.0999 - accuracy: 0.9688 - f1_m: 0.9689 - precision_m: 0.9751 - recall_m: 0.9627 - val_loss: 0.0290 - val_accuracy: 0.9932 - val_f1_m: 0.9928 - val_precision_m: 0.9936 - val_recall_m: 0.9921\n",
      "Epoch 67/100\n",
      "79/79 [==============================] - 1s 10ms/step - loss: 0.1030 - accuracy: 0.9671 - f1_m: 0.9677 - precision_m: 0.9733 - recall_m: 0.9621 - val_loss: 0.0264 - val_accuracy: 0.9923 - val_f1_m: 0.9919 - val_precision_m: 0.9927 - val_recall_m: 0.9910\n",
      "Epoch 68/100\n",
      "79/79 [==============================] - 1s 8ms/step - loss: 0.1087 - accuracy: 0.9687 - f1_m: 0.9694 - precision_m: 0.9740 - recall_m: 0.9649 - val_loss: 0.0307 - val_accuracy: 0.9919 - val_f1_m: 0.9917 - val_precision_m: 0.9926 - val_recall_m: 0.9909\n",
      "Epoch 69/100\n",
      "79/79 [==============================] - 1s 8ms/step - loss: 0.1082 - accuracy: 0.9680 - f1_m: 0.9683 - precision_m: 0.9729 - recall_m: 0.9637 - val_loss: 0.0273 - val_accuracy: 0.9925 - val_f1_m: 0.9926 - val_precision_m: 0.9936 - val_recall_m: 0.9916\n",
      "Epoch 70/100\n",
      "79/79 [==============================] - 1s 9ms/step - loss: 0.1046 - accuracy: 0.9675 - f1_m: 0.9676 - precision_m: 0.9735 - recall_m: 0.9618 - val_loss: 0.0252 - val_accuracy: 0.9935 - val_f1_m: 0.9932 - val_precision_m: 0.9938 - val_recall_m: 0.9926\n",
      "Epoch 71/100\n",
      "79/79 [==============================] - 1s 8ms/step - loss: 0.0937 - accuracy: 0.9708 - f1_m: 0.9713 - precision_m: 0.9762 - recall_m: 0.9665 - val_loss: 0.0263 - val_accuracy: 0.9932 - val_f1_m: 0.9929 - val_precision_m: 0.9941 - val_recall_m: 0.9917\n",
      "Epoch 72/100\n",
      "79/79 [==============================] - 1s 8ms/step - loss: 0.1174 - accuracy: 0.9627 - f1_m: 0.9636 - precision_m: 0.9688 - recall_m: 0.9585 - val_loss: 0.0243 - val_accuracy: 0.9937 - val_f1_m: 0.9934 - val_precision_m: 0.9941 - val_recall_m: 0.9927\n",
      "Epoch 73/100\n",
      "79/79 [==============================] - 1s 11ms/step - loss: 0.0940 - accuracy: 0.9706 - f1_m: 0.9709 - precision_m: 0.9751 - recall_m: 0.9667 - val_loss: 0.0233 - val_accuracy: 0.9935 - val_f1_m: 0.9928 - val_precision_m: 0.9936 - val_recall_m: 0.9921\n",
      "Epoch 74/100\n",
      "79/79 [==============================] - 1s 10ms/step - loss: 0.1081 - accuracy: 0.9671 - f1_m: 0.9667 - precision_m: 0.9712 - recall_m: 0.9623 - val_loss: 0.0263 - val_accuracy: 0.9925 - val_f1_m: 0.9921 - val_precision_m: 0.9927 - val_recall_m: 0.9914\n",
      "Epoch 75/100\n",
      "79/79 [==============================] - 1s 9ms/step - loss: 0.0970 - accuracy: 0.9687 - f1_m: 0.9692 - precision_m: 0.9733 - recall_m: 0.9651 - val_loss: 0.0228 - val_accuracy: 0.9939 - val_f1_m: 0.9936 - val_precision_m: 0.9944 - val_recall_m: 0.9927\n",
      "Epoch 76/100\n",
      "79/79 [==============================] - 1s 8ms/step - loss: 0.0902 - accuracy: 0.9704 - f1_m: 0.9708 - precision_m: 0.9750 - recall_m: 0.9666 - val_loss: 0.0276 - val_accuracy: 0.9930 - val_f1_m: 0.9928 - val_precision_m: 0.9934 - val_recall_m: 0.9922\n",
      "Epoch 77/100\n",
      "79/79 [==============================] - 1s 8ms/step - loss: 0.0949 - accuracy: 0.9706 - f1_m: 0.9719 - precision_m: 0.9767 - recall_m: 0.9672 - val_loss: 0.0276 - val_accuracy: 0.9933 - val_f1_m: 0.9928 - val_precision_m: 0.9934 - val_recall_m: 0.9922\n",
      "Epoch 78/100\n",
      "79/79 [==============================] - 1s 9ms/step - loss: 0.0857 - accuracy: 0.9731 - f1_m: 0.9736 - precision_m: 0.9777 - recall_m: 0.9695 - val_loss: 0.0249 - val_accuracy: 0.9930 - val_f1_m: 0.9927 - val_precision_m: 0.9931 - val_recall_m: 0.9922\n",
      "Epoch 79/100\n",
      "79/79 [==============================] - 1s 9ms/step - loss: 0.0942 - accuracy: 0.9715 - f1_m: 0.9713 - precision_m: 0.9749 - recall_m: 0.9677 - val_loss: 0.0235 - val_accuracy: 0.9935 - val_f1_m: 0.9932 - val_precision_m: 0.9939 - val_recall_m: 0.9926\n",
      "Epoch 80/100\n",
      "79/79 [==============================] - 1s 9ms/step - loss: 0.0831 - accuracy: 0.9729 - f1_m: 0.9736 - precision_m: 0.9778 - recall_m: 0.9696 - val_loss: 0.0272 - val_accuracy: 0.9940 - val_f1_m: 0.9937 - val_precision_m: 0.9943 - val_recall_m: 0.9931\n",
      "Epoch 81/100\n",
      "79/79 [==============================] - 1s 9ms/step - loss: 0.0907 - accuracy: 0.9724 - f1_m: 0.9717 - precision_m: 0.9757 - recall_m: 0.9678 - val_loss: 0.0295 - val_accuracy: 0.9932 - val_f1_m: 0.9932 - val_precision_m: 0.9941 - val_recall_m: 0.9922\n",
      "Epoch 82/100\n",
      "79/79 [==============================] - 1s 9ms/step - loss: 0.0974 - accuracy: 0.9693 - f1_m: 0.9701 - precision_m: 0.9738 - recall_m: 0.9665 - val_loss: 0.0256 - val_accuracy: 0.9932 - val_f1_m: 0.9928 - val_precision_m: 0.9934 - val_recall_m: 0.9922\n",
      "Epoch 83/100\n",
      "79/79 [==============================] - 1s 9ms/step - loss: 0.0880 - accuracy: 0.9730 - f1_m: 0.9737 - precision_m: 0.9771 - recall_m: 0.9703 - val_loss: 0.0264 - val_accuracy: 0.9933 - val_f1_m: 0.9931 - val_precision_m: 0.9936 - val_recall_m: 0.9926\n",
      "Epoch 84/100\n",
      "79/79 [==============================] - 1s 9ms/step - loss: 0.0834 - accuracy: 0.9731 - f1_m: 0.9735 - precision_m: 0.9769 - recall_m: 0.9701 - val_loss: 0.0295 - val_accuracy: 0.9930 - val_f1_m: 0.9927 - val_precision_m: 0.9932 - val_recall_m: 0.9921\n",
      "Epoch 85/100\n",
      "79/79 [==============================] - 1s 11ms/step - loss: 0.0882 - accuracy: 0.9727 - f1_m: 0.9732 - precision_m: 0.9771 - recall_m: 0.9693 - val_loss: 0.0243 - val_accuracy: 0.9942 - val_f1_m: 0.9938 - val_precision_m: 0.9943 - val_recall_m: 0.9934\n",
      "Epoch 86/100\n",
      "79/79 [==============================] - 1s 9ms/step - loss: 0.0860 - accuracy: 0.9713 - f1_m: 0.9727 - precision_m: 0.9766 - recall_m: 0.9688 - val_loss: 0.0306 - val_accuracy: 0.9928 - val_f1_m: 0.9922 - val_precision_m: 0.9928 - val_recall_m: 0.9915\n",
      "Epoch 87/100\n",
      "79/79 [==============================] - 1s 9ms/step - loss: 0.0785 - accuracy: 0.9750 - f1_m: 0.9757 - precision_m: 0.9794 - recall_m: 0.9720 - val_loss: 0.0256 - val_accuracy: 0.9935 - val_f1_m: 0.9929 - val_precision_m: 0.9939 - val_recall_m: 0.9919\n",
      "Epoch 88/100\n",
      "79/79 [==============================] - 1s 8ms/step - loss: 0.0762 - accuracy: 0.9768 - f1_m: 0.9771 - precision_m: 0.9806 - recall_m: 0.9735 - val_loss: 0.0235 - val_accuracy: 0.9933 - val_f1_m: 0.9924 - val_precision_m: 0.9932 - val_recall_m: 0.9917\n",
      "Epoch 89/100\n",
      "79/79 [==============================] - 1s 10ms/step - loss: 0.0744 - accuracy: 0.9763 - f1_m: 0.9771 - precision_m: 0.9812 - recall_m: 0.9730 - val_loss: 0.0260 - val_accuracy: 0.9942 - val_f1_m: 0.9936 - val_precision_m: 0.9939 - val_recall_m: 0.9933\n",
      "Epoch 90/100\n",
      "79/79 [==============================] - 1s 9ms/step - loss: 0.0715 - accuracy: 0.9777 - f1_m: 0.9780 - precision_m: 0.9815 - recall_m: 0.9744 - val_loss: 0.0224 - val_accuracy: 0.9946 - val_f1_m: 0.9944 - val_precision_m: 0.9949 - val_recall_m: 0.9938\n",
      "Epoch 91/100\n",
      "79/79 [==============================] - 1s 8ms/step - loss: 0.0813 - accuracy: 0.9751 - f1_m: 0.9752 - precision_m: 0.9790 - recall_m: 0.9714 - val_loss: 0.0279 - val_accuracy: 0.9930 - val_f1_m: 0.9927 - val_precision_m: 0.9931 - val_recall_m: 0.9924\n",
      "Epoch 92/100\n",
      "79/79 [==============================] - 1s 8ms/step - loss: 0.0963 - accuracy: 0.9712 - f1_m: 0.9714 - precision_m: 0.9752 - recall_m: 0.9677 - val_loss: 0.0217 - val_accuracy: 0.9939 - val_f1_m: 0.9931 - val_precision_m: 0.9934 - val_recall_m: 0.9927\n",
      "Epoch 93/100\n",
      "79/79 [==============================] - 1s 9ms/step - loss: 0.0833 - accuracy: 0.9740 - f1_m: 0.9743 - precision_m: 0.9782 - recall_m: 0.9704 - val_loss: 0.0304 - val_accuracy: 0.9928 - val_f1_m: 0.9923 - val_precision_m: 0.9929 - val_recall_m: 0.9917\n"
     ]
    },
    {
     "name": "stdout",
     "output_type": "stream",
     "text": [
      "Epoch 94/100\n",
      "79/79 [==============================] - 1s 8ms/step - loss: 0.0732 - accuracy: 0.9779 - f1_m: 0.9776 - precision_m: 0.9813 - recall_m: 0.9739 - val_loss: 0.0247 - val_accuracy: 0.9942 - val_f1_m: 0.9940 - val_precision_m: 0.9947 - val_recall_m: 0.9933\n",
      "Epoch 95/100\n",
      "79/79 [==============================] - 1s 9ms/step - loss: 0.0886 - accuracy: 0.9739 - f1_m: 0.9740 - precision_m: 0.9777 - recall_m: 0.9703 - val_loss: 0.0254 - val_accuracy: 0.9935 - val_f1_m: 0.9929 - val_precision_m: 0.9932 - val_recall_m: 0.9926\n",
      "Epoch 96/100\n",
      "79/79 [==============================] - 1s 9ms/step - loss: 0.0865 - accuracy: 0.9744 - f1_m: 0.9743 - precision_m: 0.9781 - recall_m: 0.9705 - val_loss: 0.0238 - val_accuracy: 0.9951 - val_f1_m: 0.9945 - val_precision_m: 0.9957 - val_recall_m: 0.9934\n",
      "Epoch 97/100\n",
      "79/79 [==============================] - 1s 9ms/step - loss: 0.0735 - accuracy: 0.9775 - f1_m: 0.9776 - precision_m: 0.9808 - recall_m: 0.9744 - val_loss: 0.0234 - val_accuracy: 0.9942 - val_f1_m: 0.9934 - val_precision_m: 0.9944 - val_recall_m: 0.9924\n",
      "Epoch 98/100\n",
      "79/79 [==============================] - 1s 8ms/step - loss: 0.0915 - accuracy: 0.9720 - f1_m: 0.9725 - precision_m: 0.9764 - recall_m: 0.9685 - val_loss: 0.0261 - val_accuracy: 0.9935 - val_f1_m: 0.9931 - val_precision_m: 0.9938 - val_recall_m: 0.9924\n",
      "Epoch 99/100\n",
      "79/79 [==============================] - 1s 8ms/step - loss: 0.0798 - accuracy: 0.9737 - f1_m: 0.9744 - precision_m: 0.9783 - recall_m: 0.9706 - val_loss: 0.0279 - val_accuracy: 0.9932 - val_f1_m: 0.9927 - val_precision_m: 0.9936 - val_recall_m: 0.9919\n",
      "Epoch 100/100\n",
      "79/79 [==============================] - 1s 9ms/step - loss: 0.0851 - accuracy: 0.9751 - f1_m: 0.9754 - precision_m: 0.9783 - recall_m: 0.9725 - val_loss: 0.0226 - val_accuracy: 0.9944 - val_f1_m: 0.9941 - val_precision_m: 0.9948 - val_recall_m: 0.9934\n"
     ]
    }
   ],
   "source": [
    "history = model.fit(X_train, y_train, batch_size=256, epochs=100, \n",
    "                    validation_data=(X_val, y_val))"
   ]
  },
  {
   "cell_type": "code",
   "execution_count": 69,
   "metadata": {},
   "outputs": [
    {
     "data": {
      "image/png": "[encoded data removed]",
      "text/plain": [
       "<Figure size 864x576 with 1 Axes>"
      ]
     },
     "metadata": {
      "needs_background": "light"
     },
     "output_type": "display_data"
    }
   ],
   "source": [
    "# Проверка точности тренировочных данных и точность проверки за эпохи.\n",
    "train_accuracy = history.history['accuracy']\n",
    "val_accuracy = history.history['val_accuracy']\n",
    "\n",
    "plt.figure(figsize=(12, 8))\n",
    "\n",
    "plt.plot(train_accuracy, label='Точность на тренировочных данных', color='blue')\n",
    "plt.plot(val_accuracy, label='Точность на проверочных данных', color='red')\n",
    "\n",
    "plt.title('Точность обучения и проверки по эпохам', fontsize = 25)\n",
    "plt.xlabel('Эпоха', fontsize = 18)\n",
    "plt.ylabel('Категориальная кроссентропия', fontsize = 18)\n",
    "plt.xticks(range(0,100,5), range(0,100,5))\n",
    "\n",
    "plt.legend(fontsize = 18);"
   ]
  },
  {
   "cell_type": "code",
   "execution_count": 115,
   "metadata": {},
   "outputs": [
    {
     "data": {
      "image/png": "[encoded data removed]",
      "text/plain": [
       "<Figure size 864x576 with 1 Axes>"
      ]
     },
     "metadata": {
      "needs_background": "light"
     },
     "output_type": "display_data"
    }
   ],
   "source": [
    "plt.figure(figsize=(12, 8))\n",
    "plt.plot(history.history['loss'])\n",
    "plt.plot(history.history['val_loss'])\n",
    "plt.title('График функции потерь', fontsize = 25)\n",
    "plt.ylabel('Loss',fontsize = 18)\n",
    "plt.xlabel('Epoch',fontsize = 18)\n",
    "plt.legend(['Train-loss', 'Test-loss'])\n",
    "plt.show()"
   ]
  },
  {
   "cell_type": "code",
   "execution_count": 52,
   "metadata": {},
   "outputs": [],
   "source": [
    "# оцениваем модель\n",
    "loss, accuracy, f1_score, precision, recall = model.evaluate(X_test, y_test, verbose=0)"
   ]
  },
  {
   "cell_type": "code",
   "execution_count": 53,
   "metadata": {},
   "outputs": [],
   "source": [
    "# Получаем прогнозы на основе тестовых данных\n",
    "preds = model.predict_classes(X_test)"
   ]
  },
  {
   "cell_type": "code",
   "execution_count": 54,
   "metadata": {},
   "outputs": [],
   "source": [
    "# Преобразуем прогнозы обратно в идентификаторы выступающих\n",
    "preds = lb.inverse_transform(preds)"
   ]
  },
  {
   "cell_type": "code",
   "execution_count": 55,
   "metadata": {},
   "outputs": [],
   "source": [
    "# Разделяем датафрейм на тестовый набор данных\n",
    "df_test = df[25686:]"
   ]
  },
  {
   "cell_type": "code",
   "execution_count": 56,
   "metadata": {},
   "outputs": [],
   "source": [
    "# Создаем столбец \"preds\", и устанавливаем его равным прогнозам\n",
    "df_test['preds'] = preds"
   ]
  },
  {
   "cell_type": "code",
   "execution_count": 57,
   "metadata": {},
   "outputs": [
    {
     "data": {
      "text/html": [
       "<div>\n",
       "<style scoped>\n",
       "    .dataframe tbody tr th:only-of-type {\n",
       "        vertical-align: middle;\n",
       "    }\n",
       "\n",
       "    .dataframe tbody tr th {\n",
       "        vertical-align: top;\n",
       "    }\n",
       "\n",
       "    .dataframe thead th {\n",
       "        text-align: right;\n",
       "    }\n",
       "</style>\n",
       "<table border=\"1\" class=\"dataframe\">\n",
       "  <thead>\n",
       "    <tr style=\"text-align: right;\">\n",
       "      <th></th>\n",
       "      <th>file</th>\n",
       "      <th>label</th>\n",
       "      <th>speaker</th>\n",
       "      <th>preds</th>\n",
       "    </tr>\n",
       "  </thead>\n",
       "  <tbody>\n",
       "    <tr>\n",
       "      <th>25686</th>\n",
       "      <td>7148-59157-0025.flac</td>\n",
       "      <td>0</td>\n",
       "      <td>7148</td>\n",
       "      <td>7148</td>\n",
       "    </tr>\n",
       "    <tr>\n",
       "      <th>25687</th>\n",
       "      <td>625-132112-0007.flac</td>\n",
       "      <td>1</td>\n",
       "      <td>625</td>\n",
       "      <td>625</td>\n",
       "    </tr>\n",
       "    <tr>\n",
       "      <th>25688</th>\n",
       "      <td>6181-216552-0041.flac</td>\n",
       "      <td>1</td>\n",
       "      <td>6181</td>\n",
       "      <td>6181</td>\n",
       "    </tr>\n",
       "    <tr>\n",
       "      <th>25689</th>\n",
       "      <td>3699-19402-0012.flac</td>\n",
       "      <td>1</td>\n",
       "      <td>3699</td>\n",
       "      <td>3699</td>\n",
       "    </tr>\n",
       "    <tr>\n",
       "      <th>25690</th>\n",
       "      <td>328-129766-0063.flac</td>\n",
       "      <td>0</td>\n",
       "      <td>328</td>\n",
       "      <td>328</td>\n",
       "    </tr>\n",
       "    <tr>\n",
       "      <th>...</th>\n",
       "      <td>...</td>\n",
       "      <td>...</td>\n",
       "      <td>...</td>\n",
       "      <td>...</td>\n",
       "    </tr>\n",
       "    <tr>\n",
       "      <th>28534</th>\n",
       "      <td>8051-119902-0016.flac</td>\n",
       "      <td>0</td>\n",
       "      <td>8051</td>\n",
       "      <td>8051</td>\n",
       "    </tr>\n",
       "    <tr>\n",
       "      <th>28535</th>\n",
       "      <td>7800-283493-0015.flac</td>\n",
       "      <td>0</td>\n",
       "      <td>7800</td>\n",
       "      <td>7800</td>\n",
       "    </tr>\n",
       "    <tr>\n",
       "      <th>28536</th>\n",
       "      <td>8609-262281-0032.flac</td>\n",
       "      <td>1</td>\n",
       "      <td>8609</td>\n",
       "      <td>8609</td>\n",
       "    </tr>\n",
       "    <tr>\n",
       "      <th>28537</th>\n",
       "      <td>4898-28461-0057.flac</td>\n",
       "      <td>1</td>\n",
       "      <td>4898</td>\n",
       "      <td>4898</td>\n",
       "    </tr>\n",
       "    <tr>\n",
       "      <th>28538</th>\n",
       "      <td>3436-172162-0030.flac</td>\n",
       "      <td>1</td>\n",
       "      <td>3436</td>\n",
       "      <td>3436</td>\n",
       "    </tr>\n",
       "  </tbody>\n",
       "</table>\n",
       "<p>2853 rows × 4 columns</p>\n",
       "</div>"
      ],
      "text/plain": [
       "                        file label speaker preds\n",
       "25686   7148-59157-0025.flac     0    7148  7148\n",
       "25687   625-132112-0007.flac     1     625   625\n",
       "25688  6181-216552-0041.flac     1    6181  6181\n",
       "25689   3699-19402-0012.flac     1    3699  3699\n",
       "25690   328-129766-0063.flac     0     328   328\n",
       "...                      ...   ...     ...   ...\n",
       "28534  8051-119902-0016.flac     0    8051  8051\n",
       "28535  7800-283493-0015.flac     0    7800  7800\n",
       "28536  8609-262281-0032.flac     1    8609  8609\n",
       "28537   4898-28461-0057.flac     1    4898  4898\n",
       "28538  3436-172162-0030.flac     1    3436  3436\n",
       "\n",
       "[2853 rows x 4 columns]"
      ]
     },
     "execution_count": 57,
     "metadata": {},
     "output_type": "execute_result"
    }
   ],
   "source": [
    "# Проверяем прогнозы на тестовом наборе данных\n",
    "df_test"
   ]
  },
  {
   "cell_type": "code",
   "execution_count": 58,
   "metadata": {},
   "outputs": [
    {
     "data": {
      "text/html": [
       "<div>\n",
       "<style scoped>\n",
       "    .dataframe tbody tr th:only-of-type {\n",
       "        vertical-align: middle;\n",
       "    }\n",
       "\n",
       "    .dataframe tbody tr th {\n",
       "        vertical-align: top;\n",
       "    }\n",
       "\n",
       "    .dataframe thead th {\n",
       "        text-align: right;\n",
       "    }\n",
       "</style>\n",
       "<table border=\"1\" class=\"dataframe\">\n",
       "  <thead>\n",
       "    <tr style=\"text-align: right;\">\n",
       "      <th></th>\n",
       "      <th>file</th>\n",
       "      <th>label</th>\n",
       "      <th>speaker</th>\n",
       "      <th>preds</th>\n",
       "    </tr>\n",
       "  </thead>\n",
       "  <tbody>\n",
       "    <tr>\n",
       "      <th>25691</th>\n",
       "      <td>1737-142397-0014.flac</td>\n",
       "      <td>0</td>\n",
       "      <td>1737</td>\n",
       "      <td>3857</td>\n",
       "    </tr>\n",
       "    <tr>\n",
       "      <th>25719</th>\n",
       "      <td>1898-145724-0030.flac</td>\n",
       "      <td>0</td>\n",
       "      <td>1898</td>\n",
       "      <td>289</td>\n",
       "    </tr>\n",
       "    <tr>\n",
       "      <th>26130</th>\n",
       "      <td>198-129977-0016.flac</td>\n",
       "      <td>0</td>\n",
       "      <td>198</td>\n",
       "      <td>839</td>\n",
       "    </tr>\n",
       "    <tr>\n",
       "      <th>26195</th>\n",
       "      <td>8975-270782-0108.flac</td>\n",
       "      <td>0</td>\n",
       "      <td>8975</td>\n",
       "      <td>1183</td>\n",
       "    </tr>\n",
       "    <tr>\n",
       "      <th>26266</th>\n",
       "      <td>4898-20016-0026.flac</td>\n",
       "      <td>1</td>\n",
       "      <td>4898</td>\n",
       "      <td>8629</td>\n",
       "    </tr>\n",
       "    <tr>\n",
       "      <th>26432</th>\n",
       "      <td>6454-93938-0012.flac</td>\n",
       "      <td>1</td>\n",
       "      <td>6454</td>\n",
       "      <td>6081</td>\n",
       "    </tr>\n",
       "    <tr>\n",
       "      <th>26486</th>\n",
       "      <td>4680-16041-0010.flac</td>\n",
       "      <td>0</td>\n",
       "      <td>4680</td>\n",
       "      <td>5867</td>\n",
       "    </tr>\n",
       "    <tr>\n",
       "      <th>26653</th>\n",
       "      <td>1898-145724-0017.flac</td>\n",
       "      <td>0</td>\n",
       "      <td>1898</td>\n",
       "      <td>1455</td>\n",
       "    </tr>\n",
       "    <tr>\n",
       "      <th>26735</th>\n",
       "      <td>8770-295463-0000.flac</td>\n",
       "      <td>1</td>\n",
       "      <td>8770</td>\n",
       "      <td>909</td>\n",
       "    </tr>\n",
       "    <tr>\n",
       "      <th>26848</th>\n",
       "      <td>1235-135883-0045.flac</td>\n",
       "      <td>0</td>\n",
       "      <td>1235</td>\n",
       "      <td>8629</td>\n",
       "    </tr>\n",
       "    <tr>\n",
       "      <th>26858</th>\n",
       "      <td>4680-16026-0028.flac</td>\n",
       "      <td>0</td>\n",
       "      <td>4680</td>\n",
       "      <td>2196</td>\n",
       "    </tr>\n",
       "    <tr>\n",
       "      <th>26966</th>\n",
       "      <td>4297-13006-0043.flac</td>\n",
       "      <td>0</td>\n",
       "      <td>4297</td>\n",
       "      <td>3526</td>\n",
       "    </tr>\n",
       "    <tr>\n",
       "      <th>27096</th>\n",
       "      <td>909-131041-0018.flac</td>\n",
       "      <td>1</td>\n",
       "      <td>909</td>\n",
       "      <td>481</td>\n",
       "    </tr>\n",
       "    <tr>\n",
       "      <th>27851</th>\n",
       "      <td>1898-145702-0019.flac</td>\n",
       "      <td>0</td>\n",
       "      <td>1898</td>\n",
       "      <td>8419</td>\n",
       "    </tr>\n",
       "    <tr>\n",
       "      <th>28040</th>\n",
       "      <td>6818-76332-0000.flac</td>\n",
       "      <td>0</td>\n",
       "      <td>6818</td>\n",
       "      <td>730</td>\n",
       "    </tr>\n",
       "    <tr>\n",
       "      <th>28093</th>\n",
       "      <td>5192-19397-0033.flac</td>\n",
       "      <td>1</td>\n",
       "      <td>5192</td>\n",
       "      <td>118</td>\n",
       "    </tr>\n",
       "  </tbody>\n",
       "</table>\n",
       "</div>"
      ],
      "text/plain": [
       "                        file label speaker preds\n",
       "25691  1737-142397-0014.flac     0    1737  3857\n",
       "25719  1898-145724-0030.flac     0    1898   289\n",
       "26130   198-129977-0016.flac     0     198   839\n",
       "26195  8975-270782-0108.flac     0    8975  1183\n",
       "26266   4898-20016-0026.flac     1    4898  8629\n",
       "26432   6454-93938-0012.flac     1    6454  6081\n",
       "26486   4680-16041-0010.flac     0    4680  5867\n",
       "26653  1898-145724-0017.flac     0    1898  1455\n",
       "26735  8770-295463-0000.flac     1    8770   909\n",
       "26848  1235-135883-0045.flac     0    1235  8629\n",
       "26858   4680-16026-0028.flac     0    4680  2196\n",
       "26966   4297-13006-0043.flac     0    4297  3526\n",
       "27096   909-131041-0018.flac     1     909   481\n",
       "27851  1898-145702-0019.flac     0    1898  8419\n",
       "28040   6818-76332-0000.flac     0    6818   730\n",
       "28093   5192-19397-0033.flac     1    5192   118"
      ]
     },
     "execution_count": 58,
     "metadata": {},
     "output_type": "execute_result"
    }
   ],
   "source": [
    "# Проверяем, сколько дикторов мы определили неверно.\n",
    "df_test[df_test['speaker'] != df_test['preds']]"
   ]
  },
  {
   "cell_type": "code",
   "execution_count": 59,
   "metadata": {},
   "outputs": [
    {
     "data": {
      "text/plain": [
       "0.994"
      ]
     },
     "execution_count": 59,
     "metadata": {},
     "output_type": "execute_result"
    }
   ],
   "source": [
    "# Проверка точности нашей модели\n",
    "1-round(len(df_test[df_test['speaker'] != df_test['preds']])/len(df_test),3)"
   ]
  },
  {
   "cell_type": "code",
   "execution_count": null,
   "metadata": {},
   "outputs": [],
   "source": []
  }
 ],
 "metadata": {
  "kernelspec": {
   "display_name": "Python 3",
   "language": "python",
   "name": "python3"
  },
  "language_info": {
   "codemirror_mode": {
    "name": "ipython",
    "version": 3
   },
   "file_extension": ".py",
   "mimetype": "text/x-python",
   "name": "python",
   "nbconvert_exporter": "python",
   "pygments_lexer": "ipython3",
   "version": "3.8.5"
  }
 },
 "nbformat": 4,
 "nbformat_minor": 4
}
